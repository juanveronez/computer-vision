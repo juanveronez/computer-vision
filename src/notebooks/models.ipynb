{
 "cells": [
  {
   "cell_type": "code",
   "execution_count": 1,
   "metadata": {},
   "outputs": [],
   "source": [
    "import numpy as np\n",
    "\n",
    "from sklearn.linear_model import SGDClassifier\n",
    "from sklearn.ensemble import RandomForestClassifier\n",
    "\n",
    "from sklearn.model_selection import cross_val_predict\n",
    "\n",
    "from sklearn.metrics import precision_score, recall_score, f1_score, accuracy_score\n",
    "\n",
    "import pickle\n",
    "\n",
    "from cv2 import imread, IMREAD_GRAYSCALE\n",
    "import numpy as np"
   ]
  },
  {
   "cell_type": "code",
   "execution_count": 2,
   "metadata": {},
   "outputs": [],
   "source": [
    "with open('../data_processed/X.npy', 'rb') as f:\n",
    "    X = np.load(f)\n",
    "with open('../data_processed/y.npy', 'rb') as f:\n",
    "    y = np.load(f)\n"
   ]
  },
  {
   "cell_type": "code",
   "execution_count": 3,
   "metadata": {},
   "outputs": [],
   "source": [
    "random_state = 42\n",
    "\n",
    "sgd_clf = SGDClassifier(random_state=random_state)\n",
    "rf_clf = RandomForestClassifier(random_state=random_state)"
   ]
  },
  {
   "cell_type": "code",
   "execution_count": 4,
   "metadata": {},
   "outputs": [],
   "source": [
    "y_sgd_pred = cross_val_predict(sgd_clf, X, y, cv=3)\n",
    "y_rf_pred = cross_val_predict(rf_clf, X, y, cv=3)\n",
    "\n"
   ]
  },
  {
   "cell_type": "markdown",
   "metadata": {},
   "source": [
    "# Getting Models Scores"
   ]
  },
  {
   "cell_type": "code",
   "execution_count": 5,
   "metadata": {},
   "outputs": [],
   "source": [
    "def prediction_scores(y_test, y_pred):\n",
    "  accuracy = accuracy_score(y_test, y_pred)\n",
    "  precision = precision_score(y_test, y_pred)\n",
    "  recall = recall_score(y_test, y_pred)\n",
    "  f1 = f1_score(y_test, y_pred)\n",
    "  \n",
    "  \n",
    "  print(f\"Accuracy: {accuracy}\")\n",
    "  print(f\"Precision: {precision}\")\n",
    "  print(f\"Recall: {recall}\")\n",
    "  print(f\"F1: {f1}\")\n",
    "  \n",
    "  return {\n",
    "    \"accuracy_score\": accuracy,\n",
    "    \"precision_score\": precision,\n",
    "    \"recall_score\": recall,\n",
    "    \"f1_score\": f1\n",
    "  }\n"
   ]
  },
  {
   "cell_type": "code",
   "execution_count": 6,
   "metadata": {},
   "outputs": [
    {
     "name": "stdout",
     "output_type": "stream",
     "text": [
      "SGD Scores:\n",
      "Accuracy: 0.9886000206334468\n",
      "Precision: 0.9485875360009804\n",
      "Recall: 0.9694995929103777\n",
      "F1: 0.9589295669949823\n"
     ]
    }
   ],
   "source": [
    "\n",
    "print(\"SGD Scores:\")\n",
    "sgd_f1 = prediction_scores(y, y_sgd_pred)['f1_score']"
   ]
  },
  {
   "cell_type": "code",
   "execution_count": 7,
   "metadata": {},
   "outputs": [
    {
     "name": "stdout",
     "output_type": "stream",
     "text": [
      "Random Forest Scores:\n",
      "Accuracy: 0.9941366621960865\n",
      "Precision: 0.9922705314009662\n",
      "Recall: 0.9648024049602305\n",
      "F1: 0.9783437063381176\n"
     ]
    }
   ],
   "source": [
    "print(\"Random Forest Scores:\")\n",
    "rf_f1 = prediction_scores(y, y_rf_pred)['f1_score']\n"
   ]
  },
  {
   "cell_type": "code",
   "execution_count": 8,
   "metadata": {},
   "outputs": [
    {
     "name": "stdout",
     "output_type": "stream",
     "text": [
      "The best model is: Random Forest Classifier\n"
     ]
    }
   ],
   "source": [
    "best_model = \"SGD Classifier\" if sgd_f1 > rf_f1 else \"Random Forest Classifier\"\n",
    "\n",
    "print(f\"The best model is: {best_model}\")"
   ]
  },
  {
   "cell_type": "markdown",
   "metadata": {},
   "source": [
    "# Fitting Models and Saving"
   ]
  },
  {
   "cell_type": "code",
   "execution_count": 9,
   "metadata": {},
   "outputs": [
    {
     "name": "stdout",
     "output_type": "stream",
     "text": [
      "Models fitted!\n"
     ]
    }
   ],
   "source": [
    "sgd_clf.fit(X, y)\n",
    "rf_clf.fit(X, y)\n",
    "\n",
    "print(\"Models fitted!\")"
   ]
  },
  {
   "cell_type": "code",
   "execution_count": 10,
   "metadata": {},
   "outputs": [],
   "source": [
    "def save_model(model, filename):\n",
    "  with open(f\"../models/{filename}.pkl\", 'wb') as f:\n",
    "    pickle.dump(model, f)\n",
    "\n",
    "save_model(sgd_clf, \"sgd_classifier\")\n",
    "save_model(rf_clf, \"random_forest_classifier\")"
   ]
  },
  {
   "cell_type": "markdown",
   "metadata": {},
   "source": [
    "# Using Model to Classify an Image"
   ]
  },
  {
   "cell_type": "code",
   "execution_count": 11,
   "metadata": {},
   "outputs": [],
   "source": [
    "def load_model(filename):\n",
    "  with open(f\"../models/{filename}.pkl\", 'rb') as f:\n",
    "    return pickle.load(f)\n",
    "  \n",
    "loaded_sgd_clf = load_model(\"sgd_classifier\")\n",
    "loaded_rf_clf = load_model(\"random_forest_classifier\")"
   ]
  },
  {
   "cell_type": "code",
   "execution_count": 12,
   "metadata": {},
   "outputs": [],
   "source": [
    "def convert_image(image_path):\n",
    "  image = imread(image_path, IMREAD_GRAYSCALE)\n",
    "  binary_matrix = (image > 0).astype(np.bool_)\n",
    "  \n",
    "  return binary_matrix.flatten()"
   ]
  },
  {
   "cell_type": "code",
   "execution_count": 13,
   "metadata": {},
   "outputs": [
    {
     "name": "stdout",
     "output_type": "stream",
     "text": [
      "Target image is i or I?\n",
      "True\n"
     ]
    }
   ],
   "source": [
    "def predict_using(model, image_path):\n",
    "  return model.predict([convert_image(image_path)])[0]\n",
    "\n",
    "print(f\"Target image is i or I?\\n{predict_using(loaded_sgd_clf, \"../target/train_69_00000.png\")}\")"
   ]
  }
 ],
 "metadata": {
  "kernelspec": {
   "display_name": "base",
   "language": "python",
   "name": "python3"
  },
  "language_info": {
   "codemirror_mode": {
    "name": "ipython",
    "version": 3
   },
   "file_extension": ".py",
   "mimetype": "text/x-python",
   "name": "python",
   "nbconvert_exporter": "python",
   "pygments_lexer": "ipython3",
   "version": "3.12.4"
  }
 },
 "nbformat": 4,
 "nbformat_minor": 2
}
